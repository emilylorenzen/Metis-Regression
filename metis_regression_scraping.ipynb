{
 "cells": [
  {
   "cell_type": "code",
   "execution_count": 1,
   "id": "ad306875",
   "metadata": {},
   "outputs": [],
   "source": [
    "from bs4 import BeautifulSoup\n",
    "import requests\n",
    "import pandas as pd\n",
    "import re\n",
    "import time\n",
    "import time, os\n",
    "from selenium import webdriver\n",
    "from selenium.webdriver.common.keys import Keys\n",
    "from IPython.core.display import display, HTML"
   ]
  },
  {
   "cell_type": "code",
   "execution_count": 2,
   "id": "9fbe15f5",
   "metadata": {},
   "outputs": [],
   "source": [
    "first_html = 'https://www.realtor.com/realestateandhomes-detail/6545-SE-Yamhill-Ct_Portland_OR_97215_M12879-48012'\n",
    "response = requests.get(first_html, headers={'User-Agent': 'Mozilla/5.0'})\n",
    "page = response.text\n",
    "soup = BeautifulSoup(page, \"html5lib\")"
   ]
  },
  {
   "cell_type": "code",
   "execution_count": 3,
   "id": "b83bcf50",
   "metadata": {},
   "outputs": [
    {
     "data": {
      "text/plain": [
       "200"
      ]
     },
     "execution_count": 3,
     "metadata": {},
     "output_type": "execute_result"
    }
   ],
   "source": [
    "response.status_code"
   ]
  },
  {
   "cell_type": "code",
   "execution_count": 4,
   "id": "f2042583",
   "metadata": {},
   "outputs": [
    {
     "data": {
      "text/plain": [
       "'https://www.redfin.com/zipcode/97201/filter/include=sold-1mo'"
      ]
     },
     "execution_count": 4,
     "metadata": {},
     "output_type": "execute_result"
    }
   ],
   "source": [
    "#Take into account all Portland zipcodes\n",
    "def get_zipcodes(zipcode1, zipcode2):\n",
    "    url_list = []\n",
    "    for zip_code in range(zipcode1, zipcode2 + 1):    \n",
    "        url = \"https://www.redfin.com/zipcode/\" + str(zip_code) + \"/filter/include=sold-1mo\"\n",
    "        url_list.append(url)\n",
    "    return url_list\n",
    "\n",
    "zipcode_url_list = get_zipcodes(97201, 97266)\n",
    "zipcode_url_list[0]"
   ]
  },
  {
   "cell_type": "code",
   "execution_count": 6,
   "id": "2cea0960",
   "metadata": {},
   "outputs": [
    {
     "ename": "AttributeError",
     "evalue": "'NoneType' object has no attribute 'text'",
     "output_type": "error",
     "traceback": [
      "\u001b[0;31m---------------------------------------------------------------------------\u001b[0m",
      "\u001b[0;31mAttributeError\u001b[0m                            Traceback (most recent call last)",
      "\u001b[0;32m<ipython-input-6-7ec89fce5353>\u001b[0m in \u001b[0;36m<module>\u001b[0;34m\u001b[0m\n\u001b[1;32m     12\u001b[0m     \u001b[0mdirect_house_links\u001b[0m\u001b[0;34m.\u001b[0m\u001b[0mappend\u001b[0m\u001b[0;34m(\u001b[0m\u001b[0mhouse_link_text\u001b[0m\u001b[0;34m)\u001b[0m\u001b[0;34m\u001b[0m\u001b[0;34m\u001b[0m\u001b[0m\n\u001b[1;32m     13\u001b[0m \u001b[0;34m\u001b[0m\u001b[0m\n\u001b[0;32m---> 14\u001b[0;31m \u001b[0mnum_houses_in_search\u001b[0m \u001b[0;34m=\u001b[0m \u001b[0mtest_soup\u001b[0m\u001b[0;34m.\u001b[0m\u001b[0mfind\u001b[0m\u001b[0;34m(\u001b[0m\u001b[0mclass_\u001b[0m\u001b[0;34m=\u001b[0m \u001b[0;34m\"home summary\"\u001b[0m\u001b[0;34m)\u001b[0m\u001b[0;34m.\u001b[0m\u001b[0mtext\u001b[0m\u001b[0;34m\u001b[0m\u001b[0;34m\u001b[0m\u001b[0m\n\u001b[0m",
      "\u001b[0;31mAttributeError\u001b[0m: 'NoneType' object has no attribute 'text'"
     ]
    }
   ],
   "source": [
    "chromedriver = '/Applications/chromedriver'\n",
    "os.environ[\"webdriver.chrome.driver\"] = chromedriver\n",
    "test_zip = zipcode_url_list[11]\n",
    "driver = webdriver.Chrome(chromedriver)\n",
    "driver.get(test_zip)\n",
    "driver.page_source[:1000]\n",
    "test_soup = BeautifulSoup(driver.page_source, 'html.parser')\n",
    "direct_house_links = []\n",
    "all_links_on_page = test_soup.find_all(class_ = \"slider-item\")\n",
    "for link in all_links_on_page:\n",
    "    house_link_text = link['href']\n",
    "    direct_house_links.append(house_link_text)\n",
    "\n",
    "test_soup.find(class_= \"home summary\")\n"
   ]
  },
  {
   "cell_type": "code",
   "execution_count": 14,
   "id": "e2fe4bfb",
   "metadata": {},
   "outputs": [
    {
     "data": {
      "text/plain": [
       "'6'"
      ]
     },
     "execution_count": 14,
     "metadata": {},
     "output_type": "execute_result"
    }
   ],
   "source": [
    "num_homes = int(test_soup.find(class_= \"homes summary\").text.split()[1])\n",
    "if num_homes > 40:\n",
    "    page2_url = zipcode + 'page-2'\n",
    "    driver.get(zipcode)\n",
    "    test_soup = BeautifulSoup(driver.page_source, 'html.parser') \n",
    "\n",
    "if num_homes > 80:\n",
    "    page3_url = "
   ]
  },
  {
   "cell_type": "code",
   "execution_count": 302,
   "id": "06dea595",
   "metadata": {},
   "outputs": [
    {
     "name": "stdout",
     "output_type": "stream",
     "text": [
      "https://www.redfin.com/zipcode/97201/filter/include=sold-1mo\n"
     ]
    },
    {
     "ename": "NoSuchWindowException",
     "evalue": "Message: no such window: target window already closed\nfrom unknown error: web view not found\n  (Session info: chrome=90.0.4430.93)\n",
     "output_type": "error",
     "traceback": [
      "\u001b[0;31m---------------------------------------------------------------------------\u001b[0m",
      "\u001b[0;31mNoSuchWindowException\u001b[0m                     Traceback (most recent call last)",
      "\u001b[0;32m<ipython-input-302-62f659bd4b58>\u001b[0m in \u001b[0;36m<module>\u001b[0;34m\u001b[0m\n\u001b[1;32m     21\u001b[0m     \u001b[0mtime\u001b[0m\u001b[0;34m.\u001b[0m\u001b[0msleep\u001b[0m\u001b[0;34m(\u001b[0m\u001b[0;36m.5\u001b[0m\u001b[0;34m+\u001b[0m\u001b[0;36m2\u001b[0m\u001b[0;34m*\u001b[0m\u001b[0mrandom\u001b[0m\u001b[0;34m.\u001b[0m\u001b[0mrandom\u001b[0m\u001b[0;34m(\u001b[0m\u001b[0;34m)\u001b[0m\u001b[0;34m)\u001b[0m\u001b[0;34m\u001b[0m\u001b[0;34m\u001b[0m\u001b[0m\n\u001b[1;32m     22\u001b[0m \u001b[0;34m\u001b[0m\u001b[0m\n\u001b[0;32m---> 23\u001b[0;31m \u001b[0mall_house_links\u001b[0m \u001b[0;34m=\u001b[0m \u001b[0mget_links\u001b[0m\u001b[0;34m(\u001b[0m\u001b[0mzipcode_url_list\u001b[0m\u001b[0;34m)\u001b[0m\u001b[0;34m\u001b[0m\u001b[0;34m\u001b[0m\u001b[0m\n\u001b[0m\u001b[1;32m     24\u001b[0m \u001b[0mlen\u001b[0m\u001b[0;34m(\u001b[0m\u001b[0mall_house_links\u001b[0m\u001b[0;34m)\u001b[0m\u001b[0;34m\u001b[0m\u001b[0;34m\u001b[0m\u001b[0m\n",
      "\u001b[0;32m<ipython-input-302-62f659bd4b58>\u001b[0m in \u001b[0;36mget_links\u001b[0;34m(zipcode_list)\u001b[0m\n\u001b[1;32m     10\u001b[0m         \u001b[0mprint\u001b[0m\u001b[0;34m(\u001b[0m\u001b[0mzipcode\u001b[0m\u001b[0;34m)\u001b[0m\u001b[0;34m\u001b[0m\u001b[0;34m\u001b[0m\u001b[0m\n\u001b[1;32m     11\u001b[0m         \u001b[0mdriver\u001b[0m\u001b[0;34m.\u001b[0m\u001b[0mget\u001b[0m\u001b[0;34m(\u001b[0m\u001b[0mzipcode\u001b[0m\u001b[0;34m)\u001b[0m\u001b[0;34m\u001b[0m\u001b[0;34m\u001b[0m\u001b[0m\n\u001b[0;32m---> 12\u001b[0;31m         \u001b[0mtest_soup\u001b[0m \u001b[0;34m=\u001b[0m \u001b[0mBeautifulSoup\u001b[0m\u001b[0;34m(\u001b[0m\u001b[0mdriver\u001b[0m\u001b[0;34m.\u001b[0m\u001b[0mpage_source\u001b[0m\u001b[0;34m,\u001b[0m \u001b[0;34m'html.parser'\u001b[0m\u001b[0;34m)\u001b[0m\u001b[0;34m\u001b[0m\u001b[0;34m\u001b[0m\u001b[0m\n\u001b[0m\u001b[1;32m     13\u001b[0m \u001b[0;34m\u001b[0m\u001b[0m\n\u001b[1;32m     14\u001b[0m     \u001b[0;31m#Parse the page\u001b[0m\u001b[0;34m\u001b[0m\u001b[0;34m\u001b[0m\u001b[0;34m\u001b[0m\u001b[0m\n",
      "\u001b[0;32m/Applications/anaconda3/envs/metis/lib/python3.8/site-packages/selenium/webdriver/remote/webdriver.py\u001b[0m in \u001b[0;36mpage_source\u001b[0;34m(self)\u001b[0m\n\u001b[1;32m    677\u001b[0m             \u001b[0mdriver\u001b[0m\u001b[0;34m.\u001b[0m\u001b[0mpage_source\u001b[0m\u001b[0;34m\u001b[0m\u001b[0;34m\u001b[0m\u001b[0m\n\u001b[1;32m    678\u001b[0m         \"\"\"\n\u001b[0;32m--> 679\u001b[0;31m         \u001b[0;32mreturn\u001b[0m \u001b[0mself\u001b[0m\u001b[0;34m.\u001b[0m\u001b[0mexecute\u001b[0m\u001b[0;34m(\u001b[0m\u001b[0mCommand\u001b[0m\u001b[0;34m.\u001b[0m\u001b[0mGET_PAGE_SOURCE\u001b[0m\u001b[0;34m)\u001b[0m\u001b[0;34m[\u001b[0m\u001b[0;34m'value'\u001b[0m\u001b[0;34m]\u001b[0m\u001b[0;34m\u001b[0m\u001b[0;34m\u001b[0m\u001b[0m\n\u001b[0m\u001b[1;32m    680\u001b[0m \u001b[0;34m\u001b[0m\u001b[0m\n\u001b[1;32m    681\u001b[0m     \u001b[0;32mdef\u001b[0m \u001b[0mclose\u001b[0m\u001b[0;34m(\u001b[0m\u001b[0mself\u001b[0m\u001b[0;34m)\u001b[0m\u001b[0;34m:\u001b[0m\u001b[0;34m\u001b[0m\u001b[0;34m\u001b[0m\u001b[0m\n",
      "\u001b[0;32m/Applications/anaconda3/envs/metis/lib/python3.8/site-packages/selenium/webdriver/remote/webdriver.py\u001b[0m in \u001b[0;36mexecute\u001b[0;34m(self, driver_command, params)\u001b[0m\n\u001b[1;32m    319\u001b[0m         \u001b[0mresponse\u001b[0m \u001b[0;34m=\u001b[0m \u001b[0mself\u001b[0m\u001b[0;34m.\u001b[0m\u001b[0mcommand_executor\u001b[0m\u001b[0;34m.\u001b[0m\u001b[0mexecute\u001b[0m\u001b[0;34m(\u001b[0m\u001b[0mdriver_command\u001b[0m\u001b[0;34m,\u001b[0m \u001b[0mparams\u001b[0m\u001b[0;34m)\u001b[0m\u001b[0;34m\u001b[0m\u001b[0;34m\u001b[0m\u001b[0m\n\u001b[1;32m    320\u001b[0m         \u001b[0;32mif\u001b[0m \u001b[0mresponse\u001b[0m\u001b[0;34m:\u001b[0m\u001b[0;34m\u001b[0m\u001b[0;34m\u001b[0m\u001b[0m\n\u001b[0;32m--> 321\u001b[0;31m             \u001b[0mself\u001b[0m\u001b[0;34m.\u001b[0m\u001b[0merror_handler\u001b[0m\u001b[0;34m.\u001b[0m\u001b[0mcheck_response\u001b[0m\u001b[0;34m(\u001b[0m\u001b[0mresponse\u001b[0m\u001b[0;34m)\u001b[0m\u001b[0;34m\u001b[0m\u001b[0;34m\u001b[0m\u001b[0m\n\u001b[0m\u001b[1;32m    322\u001b[0m             response['value'] = self._unwrap_value(\n\u001b[1;32m    323\u001b[0m                 response.get('value', None))\n",
      "\u001b[0;32m/Applications/anaconda3/envs/metis/lib/python3.8/site-packages/selenium/webdriver/remote/errorhandler.py\u001b[0m in \u001b[0;36mcheck_response\u001b[0;34m(self, response)\u001b[0m\n\u001b[1;32m    240\u001b[0m                 \u001b[0malert_text\u001b[0m \u001b[0;34m=\u001b[0m \u001b[0mvalue\u001b[0m\u001b[0;34m[\u001b[0m\u001b[0;34m'alert'\u001b[0m\u001b[0;34m]\u001b[0m\u001b[0;34m.\u001b[0m\u001b[0mget\u001b[0m\u001b[0;34m(\u001b[0m\u001b[0;34m'text'\u001b[0m\u001b[0;34m)\u001b[0m\u001b[0;34m\u001b[0m\u001b[0;34m\u001b[0m\u001b[0m\n\u001b[1;32m    241\u001b[0m             \u001b[0;32mraise\u001b[0m \u001b[0mexception_class\u001b[0m\u001b[0;34m(\u001b[0m\u001b[0mmessage\u001b[0m\u001b[0;34m,\u001b[0m \u001b[0mscreen\u001b[0m\u001b[0;34m,\u001b[0m \u001b[0mstacktrace\u001b[0m\u001b[0;34m,\u001b[0m \u001b[0malert_text\u001b[0m\u001b[0;34m)\u001b[0m\u001b[0;34m\u001b[0m\u001b[0;34m\u001b[0m\u001b[0m\n\u001b[0;32m--> 242\u001b[0;31m         \u001b[0;32mraise\u001b[0m \u001b[0mexception_class\u001b[0m\u001b[0;34m(\u001b[0m\u001b[0mmessage\u001b[0m\u001b[0;34m,\u001b[0m \u001b[0mscreen\u001b[0m\u001b[0;34m,\u001b[0m \u001b[0mstacktrace\u001b[0m\u001b[0;34m)\u001b[0m\u001b[0;34m\u001b[0m\u001b[0;34m\u001b[0m\u001b[0m\n\u001b[0m\u001b[1;32m    243\u001b[0m \u001b[0;34m\u001b[0m\u001b[0m\n\u001b[1;32m    244\u001b[0m     \u001b[0;32mdef\u001b[0m \u001b[0m_value_or_default\u001b[0m\u001b[0;34m(\u001b[0m\u001b[0mself\u001b[0m\u001b[0;34m,\u001b[0m \u001b[0mobj\u001b[0m\u001b[0;34m,\u001b[0m \u001b[0mkey\u001b[0m\u001b[0;34m,\u001b[0m \u001b[0mdefault\u001b[0m\u001b[0;34m)\u001b[0m\u001b[0;34m:\u001b[0m\u001b[0;34m\u001b[0m\u001b[0;34m\u001b[0m\u001b[0m\n",
      "\u001b[0;31mNoSuchWindowException\u001b[0m: Message: no such window: target window already closed\nfrom unknown error: web view not found\n  (Session info: chrome=90.0.4430.93)\n"
     ]
    }
   ],
   "source": [
    "# Get links for sold homes in all zipcodes, put in error handling\n",
    "def get_links(zipcode_list):\n",
    "    house_html_list = []\n",
    "    num_search_pages = []\n",
    "    \n",
    "    #Start up selenium\n",
    "    chromedriver = '/Applications/chromedriver'\n",
    "    os.environ[\"webdriver.chrome.driver\"] = chromedriver\n",
    "    driver = webdriver.Chrome(chromedriver)\n",
    "    for zipcode in zipcode_list:\n",
    "        print(zipcode)\n",
    "        driver.get(zipcode)\n",
    "        test_soup = BeautifulSoup(driver.page_source, 'html.parser') \n",
    "        \n",
    "    #Determine number of houses so we can go through multiple pages\n",
    "    \n",
    "    num_houses_in_search = test_soup.find(class_= \"home summary\").text\n",
    "    #Parse the page\n",
    "    all_links_on_page = test_soup.find_all(class_ = \"slider-item\")\n",
    "    for link in all_links_on_page:\n",
    "        house_link_text = link['href']\n",
    "        house_html_list.append(house_link_text)\n",
    "    \n",
    "    if #num_house > 41\n",
    "        page2_url = zipcode + 'page-2'\n",
    "        driver.get(page2_url)\n",
    "        p2_soup = BeautifulSoup(driver.page_source, 'html.parser') \n",
    "        \n",
    "        all_links_on_page = test_soup.find_all(class_ = \"slider-item\")\n",
    "        for link in all_links_on_page:\n",
    "            house_link_text = link['href']\n",
    "            house_html_list.append(house_link_text)\n",
    "    \n",
    "    if #num_house > 82\n",
    "        page3_url = zipcode + 'page-3'\n",
    "        driver.get(page3_url)\n",
    "        p3_soup = BeautifulSoup(driver.page_source, 'html.parser') \n",
    "\n",
    "        \n",
    "    print(zipcode)\n",
    "    time.sleep(.5+2*random.random())\n",
    "\n",
    "all_house_links = get_links(zipcode_url_list)\n",
    "len(all_house_links)"
   ]
  },
  {
   "cell_type": "code",
   "execution_count": 303,
   "id": "c67636f8",
   "metadata": {},
   "outputs": [
    {
     "ename": "NameError",
     "evalue": "name 'all_house_links' is not defined",
     "output_type": "error",
     "traceback": [
      "\u001b[0;31m---------------------------------------------------------------------------\u001b[0m",
      "\u001b[0;31mNameError\u001b[0m                                 Traceback (most recent call last)",
      "\u001b[0;32m<ipython-input-303-5071582d88bc>\u001b[0m in \u001b[0;36m<module>\u001b[0;34m\u001b[0m\n\u001b[0;32m----> 1\u001b[0;31m \u001b[0mlen\u001b[0m\u001b[0;34m(\u001b[0m\u001b[0mall_house_links\u001b[0m\u001b[0;34m)\u001b[0m\u001b[0;34m\u001b[0m\u001b[0;34m\u001b[0m\u001b[0m\n\u001b[0m",
      "\u001b[0;31mNameError\u001b[0m: name 'all_house_links' is not defined"
     ]
    }
   ],
   "source": [
    "len(all_house_links)"
   ]
  },
  {
   "cell_type": "code",
   "execution_count": null,
   "id": "2619f11e",
   "metadata": {},
   "outputs": [],
   "source": [
    "def get_house_dict(link):\n",
    "    base_url = \n",
    "    url = base_url + link\n",
    "    \n",
    "    #Request HTML \n",
    "    response = requests.get(url)\n",
    "        if response.status_code != 200:\n",
    "            return None\n",
    "        page = response.text\n",
    "        soup = BeautifulSoup(page,\"lxml\")\n",
    "    \n",
    "    #Get address\n",
    "        street = soup.find(itemprop=\"streetAddress\")[0].text\n",
    "        city = soup.find_all(itemprop=\"addressLocality\")[0].text\n",
    "        region = soup.find(itemprop=\"addressRegion\")[0].text\n",
    "        zipcode = soup.find(itemprop=\"postalCode\")[0].text\n",
    "\n",
    "    #Create house dictionary and return\n",
    "        house_dict = dict(zip(headers, [street, city, region, zipcode])\n",
    "        \n",
    "        return house_dict\n",
    "\n",
    "# sold_house_dict_list = \n",
    "# for link in sold_house.link_stub:\n",
    "#     sold_house_dict_list.append(get_house_dict(link))\n"
   ]
  },
  {
   "cell_type": "code",
   "execution_count": null,
   "id": "de71d7da",
   "metadata": {},
   "outputs": [],
   "source": [
    "def scrape_all(html_list):\n",
    "    ua = UserAgent()\n",
    "    for i, page in enumerate(page_list):\n",
    "        user_agent = {'User-agent': ua.random}\n",
    "        response = requests.get(html, headers=user_agent)\n",
    "        if response.status_code != 200:\n",
    "                    return None\n",
    "        page = response.text\n",
    "        soup = BeautifulSoup(page, \"html5lib\")\n",
    "        headers = ['Beds', 'Bathrooms', 'Square Feet', 'Lot Size']\n",
    "        \n",
    "        time.sleep(.5+2*random.random())\n",
    "        print(page)"
   ]
  },
  {
   "cell_type": "code",
   "execution_count": 163,
   "id": "c3cf6196",
   "metadata": {},
   "outputs": [],
   "source": [
    "headers = ['street', 'city', 'region', 'zip_Code']\n",
    "address_dict = {}\n",
    "address_soup = soup.find_all(itemprop=\"streetAddress\")[0]\n",
    "address = address_soup.text\n",
    "city_soup = soup.find_all(itemprop=\"addressLocality\")[0]\n",
    "city = city_soup.text\n",
    "region = region_soup.text\n",
    "zip_soup = soup.find_all(itemprop=\"postalCode\")[0]\n",
    "zipcode = zip_soup.text"
   ]
  },
  {
   "cell_type": "code",
   "execution_count": 169,
   "id": "c7269193",
   "metadata": {},
   "outputs": [
    {
     "data": {
      "text/plain": [
       "(4, 3.5)"
      ]
     },
     "execution_count": 169,
     "metadata": {},
     "output_type": "execute_result"
    }
   ],
   "source": [
    "headers_list = ['Beds', 'Bathrooms', 'Square Feet', 'Lot Size']\n",
    "gen_info_soup = soup.find_all(class_=\"data-value\")\n",
    "beds = int(gen_info_soup[0].text)\n",
    "bathrooms = float(gen_info_soup[1].text.replace('+', ''))\n",
    "sq_ft = int(gen_info_soup[2].text.replace(',',''))\n",
    "sqft_lot = int(gen_info_soup[3].text.replace(',',''))\n",
    "history_soup = \n",
    "year_built = \n",
    "year_renovated = \n"
   ]
  },
  {
   "cell_type": "code",
   "execution_count": null,
   "id": "7ce4d9a1",
   "metadata": {},
   "outputs": [],
   "source": []
  },
  {
   "cell_type": "code",
   "execution_count": 178,
   "id": "5a8b845d",
   "metadata": {},
   "outputs": [
    {
     "data": {
      "text/plain": [
       "<pandas.core.indexing._iLocIndexer at 0x7fbf4777a3b0>"
      ]
     },
     "execution_count": 178,
     "metadata": {},
     "output_type": "execute_result"
    }
   ],
   "source": [
    "tables = pd.read_html(page)\n",
    "price_history = tables[1]\n",
    "listed_price = price_history[price_history['Event'] == 'Listed'].reset_index()\n",
    "listed_price.iloc(0)"
   ]
  },
  {
   "cell_type": "code",
   "execution_count": 172,
   "id": "80df8858",
   "metadata": {},
   "outputs": [
    {
     "data": {
      "text/html": [
       "<div>\n",
       "<style scoped>\n",
       "    .dataframe tbody tr th:only-of-type {\n",
       "        vertical-align: middle;\n",
       "    }\n",
       "\n",
       "    .dataframe tbody tr th {\n",
       "        vertical-align: top;\n",
       "    }\n",
       "\n",
       "    .dataframe thead th {\n",
       "        text-align: right;\n",
       "    }\n",
       "</style>\n",
       "<table border=\"1\" class=\"dataframe\">\n",
       "  <thead>\n",
       "    <tr style=\"text-align: right;\">\n",
       "      <th></th>\n",
       "      <th>Rating*</th>\n",
       "      <th>School Name</th>\n",
       "      <th>Grades</th>\n",
       "      <th>Distance</th>\n",
       "    </tr>\n",
       "  </thead>\n",
       "  <tbody>\n",
       "    <tr>\n",
       "      <th>0</th>\n",
       "      <td>8</td>\n",
       "      <td>Glencoe Elementary School</td>\n",
       "      <td>K–5</td>\n",
       "      <td>0.7 mi</td>\n",
       "    </tr>\n",
       "    <tr>\n",
       "      <th>1</th>\n",
       "      <td>4</td>\n",
       "      <td>Mt Tabor Middle School</td>\n",
       "      <td>6–8</td>\n",
       "      <td>0.5 mi</td>\n",
       "    </tr>\n",
       "    <tr>\n",
       "      <th>2</th>\n",
       "      <td>5</td>\n",
       "      <td>Franklin High School</td>\n",
       "      <td>9–12</td>\n",
       "      <td>1.1 mi</td>\n",
       "    </tr>\n",
       "    <tr>\n",
       "      <th>3</th>\n",
       "      <td>9</td>\n",
       "      <td>Portland Arthur Academy Charter School</td>\n",
       "      <td>K–5</td>\n",
       "      <td>0.5 mi</td>\n",
       "    </tr>\n",
       "    <tr>\n",
       "      <th>4</th>\n",
       "      <td>4</td>\n",
       "      <td>Bridger Elementary School</td>\n",
       "      <td>K–8</td>\n",
       "      <td>0.8 mi</td>\n",
       "    </tr>\n",
       "    <tr>\n",
       "      <th>5</th>\n",
       "      <td>4</td>\n",
       "      <td>Madison High School</td>\n",
       "      <td>9–12</td>\n",
       "      <td>1.9 mi</td>\n",
       "    </tr>\n",
       "    <tr>\n",
       "      <th>6</th>\n",
       "      <td>NR</td>\n",
       "      <td>Gately Academy Private School</td>\n",
       "      <td>4–8</td>\n",
       "      <td>0.9 mi</td>\n",
       "    </tr>\n",
       "    <tr>\n",
       "      <th>7</th>\n",
       "      <td>NR</td>\n",
       "      <td>The Portland Montessori Private School</td>\n",
       "      <td>PK–5</td>\n",
       "      <td>1.0 mi</td>\n",
       "    </tr>\n",
       "  </tbody>\n",
       "</table>\n",
       "</div>"
      ],
      "text/plain": [
       "  Rating*                             School Name Grades Distance\n",
       "0       8               Glencoe Elementary School    K–5   0.7 mi\n",
       "1       4                  Mt Tabor Middle School    6–8   0.5 mi\n",
       "2       5                    Franklin High School   9–12   1.1 mi\n",
       "3       9  Portland Arthur Academy Charter School    K–5   0.5 mi\n",
       "4       4               Bridger Elementary School    K–8   0.8 mi\n",
       "5       4                     Madison High School   9–12   1.9 mi\n",
       "6      NR           Gately Academy Private School    4–8   0.9 mi\n",
       "7      NR  The Portland Montessori Private School   PK–5   1.0 mi"
      ]
     },
     "execution_count": 172,
     "metadata": {},
     "output_type": "execute_result"
    }
   ],
   "source": [
    "tables[0]\n",
    "tables[0]['Rating']"
   ]
  },
  {
   "cell_type": "code",
   "execution_count": 102,
   "id": "958435b5",
   "metadata": {},
   "outputs": [
    {
     "name": "stdout",
     "output_type": "stream",
     "text": [
      "<h1 class=\"Text-c11n-8-33-0__aiai24-0 StyledHeading-c11n-8-33-0__ktujwe-0 lfNwrZ\" font-family=\"sansSerif\" id=\"ds-chip-property-address\">\n",
      " <span>\n",
      "  1527 NW Miller Rd,\n",
      " </span>\n",
      " <span>\n",
      "  <!-- -->\n",
      "  Portland, OR 97229\n",
      " </span>\n",
      "</h1>\n"
     ]
    },
    {
     "data": {
      "text/plain": [
       "'1527 NW Miller Rd,\\xa0Portland, OR 97229'"
      ]
     },
     "execution_count": 102,
     "metadata": {},
     "output_type": "execute_result"
    }
   ],
   "source": [
    "address = soup.find_all(id = 'ds-chip-property-address')\n",
    "for element in address:\n",
    "    print(element.prettify())\n",
    "street = address[0].text.replace('xa0','')\n",
    "street"
   ]
  },
  {
   "cell_type": "code",
   "execution_count": 131,
   "id": "a44baa3b",
   "metadata": {},
   "outputs": [
    {
     "name": "stdout",
     "output_type": "stream",
     "text": [
      "Bedrooms: 4\n"
     ]
    }
   ],
   "source": [
    "house_info = soup.find_all(class_=\"Text-c11n-8-33-0__aiai24-0 kTUCqv\")\n",
    "# for element in house_info:\n",
    "#     print(element.prettify())\n",
    "\n",
    "print(house_info[4].text)\n",
    "i = 1\n",
    "house_info = {}\n",
    "while i in range(4,10):\n",
    "    all_info = house_info[i].text\n",
    "    info = all_info.split()[0]\n",
    "    num = all_info.split()[1]\n",
    "    i += 1"
   ]
  },
  {
   "cell_type": "code",
   "execution_count": null,
   "id": "20bad3b3",
   "metadata": {},
   "outputs": [],
   "source": []
  }
 ],
 "metadata": {
  "kernelspec": {
   "display_name": "Python 3",
   "language": "python",
   "name": "python3"
  },
  "language_info": {
   "codemirror_mode": {
    "name": "ipython",
    "version": 3
   },
   "file_extension": ".py",
   "mimetype": "text/x-python",
   "name": "python",
   "nbconvert_exporter": "python",
   "pygments_lexer": "ipython3",
   "version": "3.8.8"
  }
 },
 "nbformat": 4,
 "nbformat_minor": 5
}

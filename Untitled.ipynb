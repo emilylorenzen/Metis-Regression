{
 "cells": [
  {
   "cell_type": "markdown",
   "id": "924b8be6",
   "metadata": {},
   "source": [
    "# Linear Regression Project Proposal"
   ]
  },
  {
   "cell_type": "markdown",
   "id": "bcb788ac",
   "metadata": {},
   "source": [
    "## Predicting winning bids for home sales in Portland, OR"
   ]
  }
 ],
 "metadata": {
  "kernelspec": {
   "display_name": "Python [conda env:metis] *",
   "language": "python",
   "name": "conda-env-metis-py"
  },
  "language_info": {
   "codemirror_mode": {
    "name": "ipython",
    "version": 3
   },
   "file_extension": ".py",
   "mimetype": "text/x-python",
   "name": "python",
   "nbconvert_exporter": "python",
   "pygments_lexer": "ipython3",
   "version": "3.8.8"
  }
 },
 "nbformat": 4,
 "nbformat_minor": 5
}
